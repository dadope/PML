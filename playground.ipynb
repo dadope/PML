{
 "cells": [
  {
   "metadata": {},
   "cell_type": "markdown",
   "source": "## Data preparation",
   "id": "6174886ced1c17de"
  },
  {
   "metadata": {},
   "cell_type": "code",
   "source": [
    "from PIL import Image\n",
    "from pathlib import Path\n",
    "\n",
    "from DPS.data_preparation import show\n",
    "from DPS.image_transforms import ImageTransforms"
   ],
   "id": "initial_id",
   "outputs": [],
   "execution_count": null
  },
  {
   "metadata": {},
   "cell_type": "code",
   "source": [
    "path = Path(\"/tmp/pml_example_pictures/\")\n",
    "\n",
    "for image in path.rglob(\"*.JPEG\"):\n",
    "    image = Image.open(image).convert(\"RGB\")\n",
    "    show(image, transforms=ImageTransforms.get_transforms())"
   ],
   "id": "55536568ae943170",
   "outputs": [],
   "execution_count": null
  }
 ],
 "metadata": {
  "kernelspec": {
   "display_name": "Python 3",
   "language": "python",
   "name": "python3"
  },
  "language_info": {
   "codemirror_mode": {
    "name": "ipython",
    "version": 2
   },
   "file_extension": ".py",
   "mimetype": "text/x-python",
   "name": "python",
   "nbconvert_exporter": "python",
   "pygments_lexer": "ipython2",
   "version": "2.7.6"
  }
 },
 "nbformat": 4,
 "nbformat_minor": 5
}
