{
 "cells": [
  {
   "metadata": {},
   "cell_type": "markdown",
   "source": "## Data preparation",
   "id": "6174886ced1c17de"
  },
  {
   "metadata": {},
   "cell_type": "code",
   "source": [
    "import torch\n",
    "from DPS.data_preparation import *"
   ],
   "id": "initial_id",
   "outputs": [],
   "execution_count": null
  },
  {
   "metadata": {},
   "cell_type": "code",
   "source": "generator = torch.Generator().manual_seed(0)",
   "id": "29a77cb63144c805",
   "outputs": [],
   "execution_count": null
  },
  {
   "metadata": {},
   "cell_type": "code",
   "source": [
    "#_, base_ds = load_data(n_test=4, transformation=base_transform, split_generator=generator)\n",
    "#_, gaussian_ds = load_data(n_test=4, transformation=gaussian_blur, split_generator=generator)\n",
    "#_, downscale_4x_ds = load_data(n_test=4, transformation=downscale_4x, split_generator=generator)\n",
    "#_, downscale_16x_ds = load_data(n_test=4, transformation=downscale_16x, split_generator=generator)\n",
    "#datasets = [base_ds, gaussian_ds, downscale_4x_ds, downscale_16x_ds]"
   ],
   "id": "4b8bfe7951641afa",
   "outputs": [],
   "execution_count": null
  },
  {
   "metadata": {},
   "cell_type": "code",
   "source": [
    "datasets = [\n",
    "    load_data(n_test=4, transformation=op, split_generator=generator)[1] \n",
    "    for op in transform_ops\n",
    "]"
   ],
   "id": "a72f2a5e1488ee8b",
   "outputs": [],
   "execution_count": null
  },
  {
   "metadata": {},
   "cell_type": "code",
   "source": [
    "for images in zip(*datasets):\n",
    "    f, axarr = plt.subplots(1, len(images), figsize=(20, 20))\n",
    "    for idx, img in enumerate(images):\n",
    "        img = tensor_to_pil(img)\n",
    "        axarr[idx].axis('off')\n",
    "        axarr[idx].imshow(img)\n",
    "    plt.show()"
   ],
   "id": "8505f82f73d12f6",
   "outputs": [],
   "execution_count": null
  },
  {
   "metadata": {},
   "cell_type": "code",
   "source": "",
   "id": "913a26e587dac016",
   "outputs": [],
   "execution_count": null
  }
 ],
 "metadata": {
  "kernelspec": {
   "display_name": "Python 3",
   "language": "python",
   "name": "python3"
  },
  "language_info": {
   "codemirror_mode": {
    "name": "ipython",
    "version": 2
   },
   "file_extension": ".py",
   "mimetype": "text/x-python",
   "name": "python",
   "nbconvert_exporter": "python",
   "pygments_lexer": "ipython2",
   "version": "2.7.6"
  }
 },
 "nbformat": 4,
 "nbformat_minor": 5
}
